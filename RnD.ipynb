{
 "cells": [
  {
   "cell_type": "code",
   "execution_count": 2,
   "metadata": {},
   "outputs": [],
   "source": [
    "# importing the necessary libraries\n",
    "import os\n",
    "import fitz"
   ]
  },
  {
   "cell_type": "code",
   "execution_count": 11,
   "metadata": {},
   "outputs": [],
   "source": [
    "test_folder_path = 'test_slides/'\n",
    "test_file = 'PT komplett 2021 (1).pdf'"
   ]
  },
  {
   "cell_type": "code",
   "execution_count": 12,
   "metadata": {},
   "outputs": [],
   "source": [
    "doc = fitz.open(test_folder_path + test_file)"
   ]
  },
  {
   "cell_type": "code",
   "execution_count": 13,
   "metadata": {},
   "outputs": [
    {
     "name": "stdout",
     "output_type": "stream",
     "text": [
      "{'format': 'PDF 1.7', 'title': '', 'author': '', 'subject': '', 'keywords': '', 'creator': 'PDFium', 'producer': '', 'creationDate': 'D:20230906123547', 'modDate': '', 'trapped': '', 'encryption': None}\n"
     ]
    }
   ],
   "source": [
    "print(doc.metadata)"
   ]
  },
  {
   "cell_type": "code",
   "execution_count": 15,
   "metadata": {},
   "outputs": [
    {
     "name": "stdout",
     "output_type": "stream",
     "text": [
      "Production  Technology  1  -  LFT  -  Chair  of  Manufacturing  Technology\n",
      "3  \n",
      "Creating  a  solid  body  from  shapeless  material  by  creating  cohesion\n",
      "Depending  on  the  temperature  gradient  and  the  speed  of  solidification,  the  faster,  the  finer  the  \n",
      "structure\n",
      "Filling  a  mold  with  molten  metal  and  solidifying  it  into  a  casting  with  the  through  the\n",
      "The  solidification  process  is  broken  down  into  nucleation  and  nucleation  growth\n",
      "•  Good  raw  material  utilization  \n",
      "•  Adjustable  mechanical  properties  of  the  workpiece  •  \n",
      "Economic  efficiency  with  large  quantities  •  \n",
      "Can  be  used  in  some  cases  without  time-consuming  post-processing\n",
      "shape  given  geometry\n",
      "introduction\n",
      "Pour\n",
      "archetypes\n",
      "Basics  of  solidification\n",
      "Classification  of  manufacturing  processes  according  to  DIN  8580\n",
      "Definition  archetypes\n",
      "Definition  casting\n",
      "Machine Translated by Google\n",
      "\n"
     ]
    }
   ],
   "source": [
    "page_1 = doc[2]\n",
    "text = page_1.get_text(\"text\")\n",
    "print(text)"
   ]
  },
  {
   "cell_type": "markdown",
   "metadata": {},
   "source": [
    "## Testing with unstructured[pdf] library"
   ]
  },
  {
   "cell_type": "code",
   "execution_count": 16,
   "metadata": {},
   "outputs": [
    {
     "name": "stderr",
     "output_type": "stream",
     "text": [
      "e:\\projects\\study_freund\\.conda\\Lib\\site-packages\\tqdm\\auto.py:21: TqdmWarning: IProgress not found. Please update jupyter and ipywidgets. See https://ipywidgets.readthedocs.io/en/stable/user_install.html\n",
      "  from .autonotebook import tqdm as notebook_tqdm\n"
     ]
    }
   ],
   "source": [
    "from unstructured.partition.pdf import partition_pdf\n",
    "\n",
    "elements = partition_pdf(filename=test_folder_path + test_file)"
   ]
  },
  {
   "cell_type": "code",
   "execution_count": 21,
   "metadata": {},
   "outputs": [
    {
     "data": {
      "text/plain": [
       "'Machine Translated by Google'"
      ]
     },
     "execution_count": 21,
     "metadata": {},
     "output_type": "execute_result"
    }
   ],
   "source": [
    "elements[0].text"
   ]
  },
  {
   "cell_type": "markdown",
   "metadata": {},
   "source": [
    "## Testing with pymupdf4llm"
   ]
  },
  {
   "cell_type": "code",
   "execution_count": 23,
   "metadata": {},
   "outputs": [],
   "source": [
    "import pymupdf4llm\n",
    "import pathlib"
   ]
  },
  {
   "cell_type": "code",
   "execution_count": 25,
   "metadata": {},
   "outputs": [
    {
     "name": "stdout",
     "output_type": "stream",
     "text": [
      "Processing test_slides/PT komplett 2021 (1).pdf...\n",
      "[                                        ] (0/12[                                        ] (  1/12[                                        ] (  2/12[                                        ] (  3/121[=                                       ] (  4/1[=                                       ] (  5/1[=                                       ] (  6/12[==                                      ] (  7/12[==                                      ] (  8/12[==                                      ] (  9/121[===                                     ] ( 10/1[===                                     ] ( 11/1[===                                     ] ( 12/12[====                                    ] ( 13/12[====                                    ] ( 14/12[====                                    ] ( 15/121[=====                                   ] ( 16/1[=====                                   ] ( 17/1[=====                                   ] ( 18/12[======                                  ] ( 19/12[======                                  ] ( 20/12[======                                  ] ( 21/121[=======                                 ] ( 22/1[=======                                 ] ( 23/1[=======                                 ] ( 24/12[========                                ] ( 25/12[========                                ] ( 26/12[========                                ] ( 27/121[=========                               ] ( 28/1[=========                               ] ( 29/121[=========                               ] ( 30/12[==========                              ] ( 31/12[==========                              ] ( 32/12[==========                              ] ( 33/121[===========                             ] ( 34/1[===========                             ] ( 35/121[===========                             ] ( 36/12[============                            ] ( 37/12[============                            ] ( 38/12[============                            ] ( 39/121[=============                           ] ( 40/1[=============                           ] ( 41/1[=============                           ] ( 42/12[==============                          ] ( 43/12[==============                          ] ( 44/12[==============                          ] ( 45/121[===============                         ] ( 46/1[===============                         ] ( 47/1[===============                         ] ( 48/12[================                        ] ( 49/12[================                        ] ( 50/12[================                        ] ( 51/121[=================                       ] ( 52/1[=================                       ] ( 53/121[=================                       ] ( 54/12[==================                      ] ( 55/12[==================                      ] ( 56/12[==================                      ] ( 57/121[===================                     ] ( 58/1[===================                     ] ( 59/1[===================                     ] ( 60/12[====================                    ] ( 61/12[====================                    ] ( 62/12[====================                    ] ( 63/121[=====================                   ] ( 64/1[=====================                   ] ( 65/1[=====================                   ] ( 66/12[======================                  ] ( 67/12[======================                  ] ( 68/12[======================                  ] ( 69/121[=======================                 ] ( 70/1[=======================                 ] ( 71/121[=======================                 ] ( 72/12[========================                ] ( 73/12[========================                ] ( 74/12[========================                ] ( 75/121[=========================               ] ( 76/1[=========================               ] ( 77/1[=========================               ] ( 78/12[==========================              ] ( 79/12[==========================              ] ( 80/12[==========================              ] ( 81/121[===========================             ] ( 82/1[===========================             ] ( 83/121[===========================             ] ( 84/12[============================            ] ( 85/12[============================            ] ( 86/12[============================            ] ( 87/121[=============================           ] ( 88/1[=============================           ] ( 89/1[=============================           ] ( 90/12[==============================          ] ( 91/12[==============================          ] ( 92/12[==============================          ] ( 93/121[===============================         ] ( 94/1[===============================         ] ( 95/121[===============================         ] ( 96/12[================================        ] ( 97/12[================================        ] ( 98/12[================================        ] ( 99/121[=================================       ] (100/1[=================================       ] (101/1[=================================       ] (102/12[==================================      ] (103/12[==================================      ] (104/12[==================================      ] (105/121[===================================     ] (106/1[===================================     ] (107/1[===================================     ] (108/12[====================================    ] (109/12[====================================    ] (110/12[====================================    ] (111/121[=====================================   ] (112/1[=====================================   ] (113/1[=====================================   ] (114/12[======================================  ] (115/12[======================================  ] (116/12[======================================  ] (117/121[======================================= ] (118/1[======================================= ] (119/1[======================================= ] (120/12[========================================] (121/121]\n"
     ]
    }
   ],
   "source": [
    "md_text = pymupdf4llm.to_markdown(test_folder_path + test_file)"
   ]
  },
  {
   "cell_type": "code",
   "execution_count": 26,
   "metadata": {},
   "outputs": [
    {
     "data": {
      "text/plain": [
       "125542"
      ]
     },
     "execution_count": 26,
     "metadata": {},
     "output_type": "execute_result"
    }
   ],
   "source": [
    "\n",
    "pathlib.Path(\"output.md\").write_bytes(md_text.encode())"
   ]
  }
 ],
 "metadata": {
  "kernelspec": {
   "display_name": "Python 3",
   "language": "python",
   "name": "python3"
  },
  "language_info": {
   "codemirror_mode": {
    "name": "ipython",
    "version": 3
   },
   "file_extension": ".py",
   "mimetype": "text/x-python",
   "name": "python",
   "nbconvert_exporter": "python",
   "pygments_lexer": "ipython3",
   "version": "3.11.9"
  }
 },
 "nbformat": 4,
 "nbformat_minor": 2
}
